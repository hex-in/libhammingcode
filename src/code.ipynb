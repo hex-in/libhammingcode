{
 "cells": [
  {
   "cell_type": "code",
   "execution_count": 3,
   "metadata": {},
   "outputs": [
    {
     "name": "stdout",
     "output_type": "stream",
     "text": [
      "78162950\n"
     ]
    }
   ],
   "source": [
    "import pyotp\n",
    "KEY='EDNLBSSPRQYW32IDYMPW6B3YKA775DEG'\n",
    "totp=pyotp.TOTP(KEY, digits=8, interval=180, digest='sha256')\n",
    "print(totp.now())"
   ]
  }
 ],
 "metadata": {
  "kernelspec": {
   "display_name": "Python 3",
   "language": "python",
   "name": "python3"
  },
  "language_info": {
   "codemirror_mode": {
    "name": "ipython",
    "version": 3
   },
   "file_extension": ".py",
   "mimetype": "text/x-python",
   "name": "python",
   "nbconvert_exporter": "python",
   "pygments_lexer": "ipython3",
   "version": "3.9.1"
  }
 },
 "nbformat": 4,
 "nbformat_minor": 2
}
